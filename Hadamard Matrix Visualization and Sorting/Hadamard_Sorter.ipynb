{
 "cells": [
  {
   "cell_type": "code",
   "execution_count": 1,
   "id": "521c9f3a-45df-4182-ae2a-fcf29f6d0bfe",
   "metadata": {},
   "outputs": [
    {
     "data": {
      "image/png": "[encoded data removed]",
      "text/plain": [
       "<Figure size 640x480 with 1 Axes>"
      ]
     },
     "metadata": {},
     "output_type": "display_data"
    }
   ],
   "source": [
    "from scipy.linalg import hadamard\n",
    "import numpy as np\n",
    "import matplotlib.pyplot as plt\n",
    "from matplotlib.colors import ListedColormap\n",
    "\n",
    "def hadamard_sorter(n):\n",
    "    # Создаём основную матрицу Адамара размером n x n\n",
    "    main_mtrx = hadamard(n).tolist()\n",
    "    pos = []\n",
    "\n",
    "    # Вычисляем количество изменений в строках матрицы и сохраняем это вместе с индексом строки\n",
    "    for i in range(n): \n",
    "        pos.append([i, sum(1 for q in range(n - 1) if main_mtrx[i][q] != main_mtrx[i][q + 1])])\n",
    "\n",
    "    # Сортируем индексы строк по количеству изменений\n",
    "    pos = sorted(pos, key=lambda x: x[1])\n",
    "    pos = [i[0] for i in pos]\n",
    "\n",
    "    # Создаём результирующую матрицу, начиная с первой строки отсортированной матрицы\n",
    "    rslt = np.array([main_mtrx[pos[0]]])\n",
    "    \n",
    "    # Добавляем остальные строки в результирующую матрицу\n",
    "    for i in range(1, n):\n",
    "        rslt = np.vstack((rslt, main_mtrx[pos[i]]))\n",
    "\n",
    "    return rslt\n",
    "\n",
    "# Создаём матрицу Адамара с сортировкой\n",
    "data = hadamard_sorter(2**6)\n",
    "\n",
    "# Определяем цветовую карту\n",
    "cmap = ListedColormap(['orange', 'blue'])\n",
    "\n",
    "# Отображаем матрицу с цветовой картой\n",
    "plt.imshow(data, cmap=cmap)\n",
    "plt.show()\n"
   ]
  },
  {
   "cell_type": "code",
   "execution_count": null,
   "id": "47c78332-ce80-4846-a936-0d6ee75e7873",
   "metadata": {},
   "outputs": [],
   "source": []
  }
 ],
 "metadata": {
  "kernelspec": {
   "display_name": "Python 3 (ipykernel)",
   "language": "python",
   "name": "python3"
  },
  "language_info": {
   "codemirror_mode": {
    "name": "ipython",
    "version": 3
   },
   "file_extension": ".py",
   "mimetype": "text/x-python",
   "name": "python",
   "nbconvert_exporter": "python",
   "pygments_lexer": "ipython3",
   "version": "3.12.4"
  }
 },
 "nbformat": 4,
 "nbformat_minor": 5
}
